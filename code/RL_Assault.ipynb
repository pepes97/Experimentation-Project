{
  "nbformat": 4,
  "nbformat_minor": 0,
  "metadata": {
    "colab": {
      "name": "RL-Assault",
      "provenance": [],
      "collapsed_sections": [],
      "toc_visible": true,
      "machine_shape": "hm"
    },
    "kernelspec": {
      "name": "python3",
      "display_name": "Python 3"
    },
    "accelerator": "GPU"
  },
  "cells": [
    {
      "cell_type": "markdown",
      "metadata": {
        "id": "ZRLtOesqwLrA",
        "colab_type": "text"
      },
      "source": [
        "## Import libraries"
      ]
    },
    {
      "cell_type": "markdown",
      "metadata": {
        "id": "CbfC3Xn2i56X",
        "colab_type": "text"
      },
      "source": [
        "### Install dependencies"
      ]
    },
    {
      "cell_type": "code",
      "metadata": {
        "id": "7INu1hsUEZCu",
        "colab_type": "code",
        "colab": {}
      },
      "source": [
        "!pip install pyvirtualdisplay\n",
        "!pip install stable-baselines[mpi]==2.9.0"
      ],
      "execution_count": 0,
      "outputs": []
    },
    {
      "cell_type": "markdown",
      "metadata": {
        "id": "TOnm8jUmi95h",
        "colab_type": "text"
      },
      "source": [
        "### Mount Google Drive"
      ]
    },
    {
      "cell_type": "code",
      "metadata": {
        "id": "VPBPqE4FLLzy",
        "colab_type": "code",
        "colab": {}
      },
      "source": [
        "import os\n",
        "from google.colab import drive\n",
        "drive.mount('/content/drive')"
      ],
      "execution_count": 0,
      "outputs": []
    },
    {
      "cell_type": "markdown",
      "metadata": {
        "id": "eVL_un8G0Q9I",
        "colab_type": "text"
      },
      "source": [
        "### Stable baselines and other libraries\n"
      ]
    },
    {
      "cell_type": "code",
      "metadata": {
        "id": "f62k-3oMl_8d",
        "colab_type": "code",
        "colab": {}
      },
      "source": [
        "%tensorflow_version 1.x\n",
        "\n",
        "import gym\n",
        "import numpy as np\n",
        "from stable_baselines.deepq.policies import CnnPolicy,LnCnnPolicy\n",
        "from stable_baselines.common.vec_env import VecVideoRecorder,SubprocVecEnv,DummyVecEnv\n",
        "from stable_baselines import DQN\n",
        "\n",
        "import base64\n",
        "import IPython\n",
        "import PIL.Image\n",
        "import pyvirtualdisplay\n",
        "\n",
        "# Video stuff \n",
        "from pathlib import Path\n",
        "from IPython import display as ipythondisplay\n",
        "\n",
        "import matplotlib.pyplot as plt"
      ],
      "execution_count": 0,
      "outputs": []
    },
    {
      "cell_type": "markdown",
      "metadata": {
        "id": "oXpGZGlQOuft",
        "colab_type": "text"
      },
      "source": [
        "## Environment"
      ]
    },
    {
      "cell_type": "code",
      "metadata": {
        "id": "lLNw6wHrO2OU",
        "colab_type": "code",
        "colab": {}
      },
      "source": [
        "env = gym.make('Assault-v0')\n",
        "env= DummyVecEnv([lambda : env])"
      ],
      "execution_count": 0,
      "outputs": []
    },
    {
      "cell_type": "markdown",
      "metadata": {
        "id": "uF_3DZB0wUkE",
        "colab_type": "text"
      },
      "source": [
        "### First Example"
      ]
    },
    {
      "cell_type": "code",
      "metadata": {
        "id": "n2BpVjTjmE8A",
        "colab_type": "code",
        "colab": {}
      },
      "source": [
        "model = DQN(CnnPolicy, env,  learning_rate=2.5e-4, \n",
        "            exploration_final_eps=0.05,tensorboard_log=\"/content/drive/My Drive/Tensorboard\")"
      ],
      "execution_count": 0,
      "outputs": []
    },
    {
      "cell_type": "markdown",
      "metadata": {
        "id": "uJwtK47POqHF",
        "colab_type": "text"
      },
      "source": [
        "### Second Example"
      ]
    },
    {
      "cell_type": "code",
      "metadata": {
        "id": "97XMi8ECO5Gp",
        "colab_type": "code",
        "colab": {}
      },
      "source": [
        "model = DQN(CnnPolicy, env, gamma=0.89,learning_rate=2.5e-4, tensorboard_log=\"/content/drive/My Drive/Tensorboard\")"
      ],
      "execution_count": 0,
      "outputs": []
    },
    {
      "cell_type": "markdown",
      "metadata": {
        "id": "s1HZoK6SkqQO",
        "colab_type": "text"
      },
      "source": [
        "### Third Example"
      ]
    },
    {
      "cell_type": "code",
      "metadata": {
        "id": "bxH7DFpAkpc7",
        "colab_type": "code",
        "colab": {}
      },
      "source": [
        "model = DQN(LnCnnPolicy,env,learning_rate=5e-4,buffer_size=100000, \n",
        "            exploration_final_eps=0.01, train_freq=4, learning_starts=100,target_network_update_freq=1000,\n",
        "            gamma=0.98, prioritized_replay=True, prioritized_replay_alpha=0.6,\n",
        "            tensorboard_log=\"/content/drive/My Drive/Tensorboard\")"
      ],
      "execution_count": 0,
      "outputs": []
    },
    {
      "cell_type": "markdown",
      "metadata": {
        "id": "0eyYYhWcWkfv",
        "colab_type": "text"
      },
      "source": [
        "### Fourth Example"
      ]
    },
    {
      "cell_type": "code",
      "metadata": {
        "id": "KauQDTZZWpbH",
        "colab_type": "code",
        "colab": {}
      },
      "source": [
        "model = DQN(LnCnnPolicy, env,learning_rate=2.5e-4,buffer_size=100000, \n",
        "            exploration_final_eps=0.01, train_freq=4, learning_starts=100,target_network_update_freq=1000,\n",
        "            gamma=0.99, prioritized_replay=True, prioritized_replay_alpha=0.6,\n",
        "            tensorboard_log=\"/content/drive/My Drive/Tensorboard\")"
      ],
      "execution_count": 0,
      "outputs": []
    },
    {
      "cell_type": "markdown",
      "metadata": {
        "id": "_deBO-aue8ih",
        "colab_type": "text"
      },
      "source": [
        "### Fifth Example"
      ]
    },
    {
      "cell_type": "code",
      "metadata": {
        "id": "ZgAAq2Bbe_72",
        "colab_type": "code",
        "colab": {}
      },
      "source": [
        "model = DQN(LnCnnPolicy, env,learning_rate=2.5e-4,buffer_size=100000,\n",
        "            exploration_final_eps=0.01, train_freq=4, learning_starts=100,target_network_update_freq=1000,\n",
        "            gamma=0.9, prioritized_replay=True, prioritized_replay_alpha=0.4,\n",
        "            tensorboard_log=\"/content/drive/My Drive/Tensorboard\")"
      ],
      "execution_count": 0,
      "outputs": []
    },
    {
      "cell_type": "markdown",
      "metadata": {
        "colab_type": "text",
        "id": "JLGSrIZ3jGNo"
      },
      "source": [
        "## Train"
      ]
    },
    {
      "cell_type": "code",
      "metadata": {
        "colab_type": "code",
        "id": "9qn6xgRTjFpN",
        "colab": {}
      },
      "source": [
        "model.learn(total_timesteps=50000)"
      ],
      "execution_count": 0,
      "outputs": []
    },
    {
      "cell_type": "markdown",
      "metadata": {
        "id": "Zk0H9MQLuvk3",
        "colab_type": "text"
      },
      "source": [
        "## TensorBoard "
      ]
    },
    {
      "cell_type": "code",
      "metadata": {
        "id": "Yc-R6UXLqxyV",
        "colab_type": "code",
        "colab": {}
      },
      "source": [
        "%load_ext tensorboard\n",
        "%tensorboard --logdir \"/content/drive/My Drive/Tensorboard\""
      ],
      "execution_count": 0,
      "outputs": []
    },
    {
      "cell_type": "markdown",
      "metadata": {
        "id": "nDE8ctpnXAZo",
        "colab_type": "text"
      },
      "source": [
        "## Save Model"
      ]
    },
    {
      "cell_type": "code",
      "metadata": {
        "id": "wN0YprlXW_aT",
        "colab_type": "code",
        "colab": {}
      },
      "source": [
        "models_dir = '/content/drive/My Drive/RL/image'\n",
        "\n",
        "def savemodel(model,problem):\n",
        "    filename = os.path.join(models_dir, '%s.h5' %problem)\n",
        "    model.save(filename)\n",
        "    print(\"\\nModel saved successfully on file %s\\n\" %filename)\n",
        "\n",
        "savemodel(model,'model4')\n"
      ],
      "execution_count": 0,
      "outputs": []
    },
    {
      "cell_type": "markdown",
      "metadata": {
        "id": "GjlvXjnHLVoN",
        "colab_type": "text"
      },
      "source": [
        "## Load Model"
      ]
    },
    {
      "cell_type": "code",
      "metadata": {
        "id": "255Uqpc5N25V",
        "colab_type": "code",
        "colab": {}
      },
      "source": [
        "models_dir = '/content/drive/My Drive/RL/image'\n",
        "\n",
        "def loadmodel(problem):\n",
        "    filename = os.path.join(models_dir, '%s.h5' %problem)\n",
        "    try:\n",
        "        modelRL = DQN.load(filename)\n",
        "        print(\"\\nModel loaded successfully from file %s\\n\" %filename)\n",
        "    except OSError:    \n",
        "        print(\"\\nModel file %s not found!!!\\n\" %filename)\n",
        "        modelRL = None\n",
        "    return modelRL\n",
        "\n",
        "model = loadmodel('model3')"
      ],
      "execution_count": 0,
      "outputs": []
    },
    {
      "cell_type": "markdown",
      "metadata": {
        "id": "6TvuSnNhwWCm",
        "colab_type": "text"
      },
      "source": [
        "## Test"
      ]
    },
    {
      "cell_type": "code",
      "metadata": {
        "id": "ZrhCNaYYrx1Q",
        "colab_type": "code",
        "colab": {}
      },
      "source": [
        "avg_reward=[]\n",
        "episodes_rewards1=[]\n",
        "episodes_rewards2=[]\n",
        "episodes_rewards3=[]\n",
        "for i in range(1,4):\n",
        "  for episodes in range(1,101):\n",
        "    obs = env.reset()\n",
        "    reward_sum = 0\n",
        "    while True:\n",
        "        action = model.predict(obs)\n",
        "        obs, reward, done, _ = env.step(action)\n",
        "        env.render\n",
        "        reward_sum += reward\n",
        "\n",
        "        if done:\n",
        "            if(i==1):\n",
        "              episodes_rewards1.append(reward_sum)\n",
        "            if(i==2):\n",
        "              episodes_rewards2.append(reward_sum)\n",
        "            if(i==3):\n",
        "              episodes_rewards3.append(reward_sum)\n",
        "            print(\"Episodes: {}\".format(episodes))\n",
        "            print(\"Total score: {}\".format(reward_sum))\n",
        "            break"
      ],
      "execution_count": 0,
      "outputs": []
    },
    {
      "cell_type": "markdown",
      "metadata": {
        "id": "BToJV3DhRrZB",
        "colab_type": "text"
      },
      "source": [
        "### Average of episodes "
      ]
    },
    {
      "cell_type": "code",
      "metadata": {
        "id": "DsXs-836Gsdf",
        "colab_type": "code",
        "colab": {}
      },
      "source": [
        "for j in range(0,100):\n",
        "  avg_reward.append(np.mean([episodes_rewards1[j],episodes_rewards2[j],episodes_rewards3[j]]))\n",
        "print(\"Avg score: {}\".format(avg_reward))"
      ],
      "execution_count": 0,
      "outputs": []
    },
    {
      "cell_type": "markdown",
      "metadata": {
        "id": "_rrQ8ZqZDZ5k",
        "colab_type": "text"
      },
      "source": [
        "### Plot Results"
      ]
    },
    {
      "cell_type": "code",
      "metadata": {
        "id": "sdeH84uuDZQB",
        "colab_type": "code",
        "colab": {}
      },
      "source": [
        "plt.plot(avg_reward)\n",
        "plt.ylabel(\"average rewards\")\n",
        "plt.xlabel(\"number of episodes\")\n",
        "plt.show()"
      ],
      "execution_count": 0,
      "outputs": []
    },
    {
      "cell_type": "markdown",
      "metadata": {
        "id": "Rm8TpPY58By9",
        "colab_type": "text"
      },
      "source": [
        "## Record Video and Show Video Functions"
      ]
    },
    {
      "cell_type": "code",
      "metadata": {
        "id": "DdkNMQhM8ERk",
        "colab_type": "code",
        "colab": {}
      },
      "source": [
        "# Record video\n",
        "def record_video(env_id, model, video_length=1500, prefix='', video_folder='/content/drive/My Drive/videos/image'):\n",
        "  \"\"\"\n",
        "  :param env_id: (str)\n",
        "  :param model: (RL model)\n",
        "  :param video_length: (int)\n",
        "  :param prefix: (str)\n",
        "  :param video_folder: (str)\n",
        "  \"\"\"\n",
        "  eval_env = DummyVecEnv([lambda: gym.make(env_id)])\n",
        "  # Start the video at step=0 and record 500 steps\n",
        "  eval_env = VecVideoRecorder(env, video_folder=video_folder,\n",
        "                              record_video_trigger=lambda step: step == 0, video_length=video_length,\n",
        "                              name_prefix=prefix)\n",
        "\n",
        "  obs = eval_env.reset()\n",
        "  for _ in range(video_length):\n",
        "    action, _ = model.predict(obs)\n",
        "    obs, _, _, _ = eval_env.step(action)\n",
        "\n",
        "  # Close the video recorder\n",
        "  eval_env.close()\n",
        "\n",
        "\n",
        "\n",
        "# Display video\n",
        "def show_videos(video_path='', prefix=''):\n",
        "  html = []\n",
        "  for mp4 in Path(video_path).glob(\"{}*.mp4\".format(prefix)):\n",
        "      video_b64 = base64.b64encode(mp4.read_bytes())\n",
        "      html.append('''<video alt=\"{}\" autoplay \n",
        "                    loop controls style=\"height: 400px;\">\n",
        "                    <source src=\"data:video/mp4;base64,{}\" type=\"video/mp4\" />\n",
        "                </video>'''.format(mp4, video_b64.decode('ascii')))\n",
        "  ipythondisplay.display(ipythondisplay.HTML(data=\"<br>\".join(html)))"
      ],
      "execution_count": 0,
      "outputs": []
    },
    {
      "cell_type": "markdown",
      "metadata": {
        "id": "HqHEhEL1xnbn",
        "colab_type": "text"
      },
      "source": [
        "### Show Video"
      ]
    },
    {
      "cell_type": "code",
      "metadata": {
        "id": "EcXmk6pAvjmR",
        "colab_type": "code",
        "colab": {}
      },
      "source": [
        "record_video('Assault-v0', model, video_length=1500, prefix='dqn-assault')\n",
        "show_videos('/content/drive/My Drive/videos/image', prefix='dqn-assault')"
      ],
      "execution_count": 0,
      "outputs": []
    }
  ]
}